{
  "nbformat": 4,
  "nbformat_minor": 2,
  "metadata": {
    "colab": {
      "name": "chap3.6.ipynb",
      "provenance": [],
      "collapsed_sections": []
    },
    "kernelspec": {
      "name": "python3",
      "display_name": "Python 3"
    },
    "language_info": {
      "name": "python"
    },
    "widgets": {
      "application/vnd.jupyter.widget-state+json": {
        "49f19f6f1d424b2b961620f34b07fe9a": {
          "model_module": "@jupyter-widgets/controls",
          "model_name": "HBoxModel",
          "model_module_version": "1.5.0",
          "state": {
            "_view_name": "HBoxView",
            "_dom_classes": [],
            "_model_name": "HBoxModel",
            "_view_module": "@jupyter-widgets/controls",
            "_model_module_version": "1.5.0",
            "_view_count": null,
            "_view_module_version": "1.5.0",
            "box_style": "",
            "layout": "IPY_MODEL_e8cce74e86e34fa080ee09fa5a1069da",
            "_model_module": "@jupyter-widgets/controls",
            "children": [
              "IPY_MODEL_c0faf82f8b454807af795538b8db36a5",
              "IPY_MODEL_a6e28ee517d6481aa9be5b606dd096bc",
              "IPY_MODEL_67eb4d1cf67c4d4ca12115d63dbf1f0c"
            ]
          }
        },
        "e8cce74e86e34fa080ee09fa5a1069da": {
          "model_module": "@jupyter-widgets/base",
          "model_name": "LayoutModel",
          "model_module_version": "1.2.0",
          "state": {
            "_view_name": "LayoutView",
            "grid_template_rows": null,
            "right": null,
            "justify_content": null,
            "_view_module": "@jupyter-widgets/base",
            "overflow": null,
            "_model_module_version": "1.2.0",
            "_view_count": null,
            "flex_flow": null,
            "width": null,
            "min_width": null,
            "border": null,
            "align_items": null,
            "bottom": null,
            "_model_module": "@jupyter-widgets/base",
            "top": null,
            "grid_column": null,
            "overflow_y": null,
            "overflow_x": null,
            "grid_auto_flow": null,
            "grid_area": null,
            "grid_template_columns": null,
            "flex": null,
            "_model_name": "LayoutModel",
            "justify_items": null,
            "grid_row": null,
            "max_height": null,
            "align_content": null,
            "visibility": null,
            "align_self": null,
            "height": null,
            "min_height": null,
            "padding": null,
            "grid_auto_rows": null,
            "grid_gap": null,
            "max_width": null,
            "order": null,
            "_view_module_version": "1.2.0",
            "grid_template_areas": null,
            "object_position": null,
            "object_fit": null,
            "grid_auto_columns": null,
            "margin": null,
            "display": null,
            "left": null
          }
        },
        "c0faf82f8b454807af795538b8db36a5": {
          "model_module": "@jupyter-widgets/controls",
          "model_name": "HTMLModel",
          "model_module_version": "1.5.0",
          "state": {
            "_view_name": "HTMLView",
            "style": "IPY_MODEL_23a954e7d6a74c8fa27c35bcf2c412d2",
            "_dom_classes": [],
            "description": "",
            "_model_name": "HTMLModel",
            "placeholder": "​",
            "_view_module": "@jupyter-widgets/controls",
            "_model_module_version": "1.5.0",
            "value": "",
            "_view_count": null,
            "_view_module_version": "1.5.0",
            "description_tooltip": null,
            "_model_module": "@jupyter-widgets/controls",
            "layout": "IPY_MODEL_f2dd0078ebf84264b1708d7c4e5f3c0b"
          }
        },
        "a6e28ee517d6481aa9be5b606dd096bc": {
          "model_module": "@jupyter-widgets/controls",
          "model_name": "FloatProgressModel",
          "model_module_version": "1.5.0",
          "state": {
            "_view_name": "ProgressView",
            "style": "IPY_MODEL_702938e466504dc296b9a12f604cced0",
            "_dom_classes": [],
            "description": "",
            "_model_name": "FloatProgressModel",
            "bar_style": "success",
            "max": 26421880,
            "_view_module": "@jupyter-widgets/controls",
            "_model_module_version": "1.5.0",
            "value": 26421880,
            "_view_count": null,
            "_view_module_version": "1.5.0",
            "orientation": "horizontal",
            "min": 0,
            "description_tooltip": null,
            "_model_module": "@jupyter-widgets/controls",
            "layout": "IPY_MODEL_f536a470d0cc4e008f6b38640827d78d"
          }
        },
        "67eb4d1cf67c4d4ca12115d63dbf1f0c": {
          "model_module": "@jupyter-widgets/controls",
          "model_name": "HTMLModel",
          "model_module_version": "1.5.0",
          "state": {
            "_view_name": "HTMLView",
            "style": "IPY_MODEL_356d1235b40b43cfab325697a9f236a6",
            "_dom_classes": [],
            "description": "",
            "_model_name": "HTMLModel",
            "placeholder": "​",
            "_view_module": "@jupyter-widgets/controls",
            "_model_module_version": "1.5.0",
            "value": " 26422272/? [00:01&lt;00:00, 24227709.15it/s]",
            "_view_count": null,
            "_view_module_version": "1.5.0",
            "description_tooltip": null,
            "_model_module": "@jupyter-widgets/controls",
            "layout": "IPY_MODEL_8b433a4fe6ad4c648271a8d96f4f5943"
          }
        },
        "23a954e7d6a74c8fa27c35bcf2c412d2": {
          "model_module": "@jupyter-widgets/controls",
          "model_name": "DescriptionStyleModel",
          "model_module_version": "1.5.0",
          "state": {
            "_view_name": "StyleView",
            "_model_name": "DescriptionStyleModel",
            "description_width": "",
            "_view_module": "@jupyter-widgets/base",
            "_model_module_version": "1.5.0",
            "_view_count": null,
            "_view_module_version": "1.2.0",
            "_model_module": "@jupyter-widgets/controls"
          }
        },
        "f2dd0078ebf84264b1708d7c4e5f3c0b": {
          "model_module": "@jupyter-widgets/base",
          "model_name": "LayoutModel",
          "model_module_version": "1.2.0",
          "state": {
            "_view_name": "LayoutView",
            "grid_template_rows": null,
            "right": null,
            "justify_content": null,
            "_view_module": "@jupyter-widgets/base",
            "overflow": null,
            "_model_module_version": "1.2.0",
            "_view_count": null,
            "flex_flow": null,
            "width": null,
            "min_width": null,
            "border": null,
            "align_items": null,
            "bottom": null,
            "_model_module": "@jupyter-widgets/base",
            "top": null,
            "grid_column": null,
            "overflow_y": null,
            "overflow_x": null,
            "grid_auto_flow": null,
            "grid_area": null,
            "grid_template_columns": null,
            "flex": null,
            "_model_name": "LayoutModel",
            "justify_items": null,
            "grid_row": null,
            "max_height": null,
            "align_content": null,
            "visibility": null,
            "align_self": null,
            "height": null,
            "min_height": null,
            "padding": null,
            "grid_auto_rows": null,
            "grid_gap": null,
            "max_width": null,
            "order": null,
            "_view_module_version": "1.2.0",
            "grid_template_areas": null,
            "object_position": null,
            "object_fit": null,
            "grid_auto_columns": null,
            "margin": null,
            "display": null,
            "left": null
          }
        },
        "702938e466504dc296b9a12f604cced0": {
          "model_module": "@jupyter-widgets/controls",
          "model_name": "ProgressStyleModel",
          "model_module_version": "1.5.0",
          "state": {
            "_view_name": "StyleView",
            "_model_name": "ProgressStyleModel",
            "description_width": "",
            "_view_module": "@jupyter-widgets/base",
            "_model_module_version": "1.5.0",
            "_view_count": null,
            "_view_module_version": "1.2.0",
            "bar_color": null,
            "_model_module": "@jupyter-widgets/controls"
          }
        },
        "f536a470d0cc4e008f6b38640827d78d": {
          "model_module": "@jupyter-widgets/base",
          "model_name": "LayoutModel",
          "model_module_version": "1.2.0",
          "state": {
            "_view_name": "LayoutView",
            "grid_template_rows": null,
            "right": null,
            "justify_content": null,
            "_view_module": "@jupyter-widgets/base",
            "overflow": null,
            "_model_module_version": "1.2.0",
            "_view_count": null,
            "flex_flow": null,
            "width": null,
            "min_width": null,
            "border": null,
            "align_items": null,
            "bottom": null,
            "_model_module": "@jupyter-widgets/base",
            "top": null,
            "grid_column": null,
            "overflow_y": null,
            "overflow_x": null,
            "grid_auto_flow": null,
            "grid_area": null,
            "grid_template_columns": null,
            "flex": null,
            "_model_name": "LayoutModel",
            "justify_items": null,
            "grid_row": null,
            "max_height": null,
            "align_content": null,
            "visibility": null,
            "align_self": null,
            "height": null,
            "min_height": null,
            "padding": null,
            "grid_auto_rows": null,
            "grid_gap": null,
            "max_width": null,
            "order": null,
            "_view_module_version": "1.2.0",
            "grid_template_areas": null,
            "object_position": null,
            "object_fit": null,
            "grid_auto_columns": null,
            "margin": null,
            "display": null,
            "left": null
          }
        },
        "356d1235b40b43cfab325697a9f236a6": {
          "model_module": "@jupyter-widgets/controls",
          "model_name": "DescriptionStyleModel",
          "model_module_version": "1.5.0",
          "state": {
            "_view_name": "StyleView",
            "_model_name": "DescriptionStyleModel",
            "description_width": "",
            "_view_module": "@jupyter-widgets/base",
            "_model_module_version": "1.5.0",
            "_view_count": null,
            "_view_module_version": "1.2.0",
            "_model_module": "@jupyter-widgets/controls"
          }
        },
        "8b433a4fe6ad4c648271a8d96f4f5943": {
          "model_module": "@jupyter-widgets/base",
          "model_name": "LayoutModel",
          "model_module_version": "1.2.0",
          "state": {
            "_view_name": "LayoutView",
            "grid_template_rows": null,
            "right": null,
            "justify_content": null,
            "_view_module": "@jupyter-widgets/base",
            "overflow": null,
            "_model_module_version": "1.2.0",
            "_view_count": null,
            "flex_flow": null,
            "width": null,
            "min_width": null,
            "border": null,
            "align_items": null,
            "bottom": null,
            "_model_module": "@jupyter-widgets/base",
            "top": null,
            "grid_column": null,
            "overflow_y": null,
            "overflow_x": null,
            "grid_auto_flow": null,
            "grid_area": null,
            "grid_template_columns": null,
            "flex": null,
            "_model_name": "LayoutModel",
            "justify_items": null,
            "grid_row": null,
            "max_height": null,
            "align_content": null,
            "visibility": null,
            "align_self": null,
            "height": null,
            "min_height": null,
            "padding": null,
            "grid_auto_rows": null,
            "grid_gap": null,
            "max_width": null,
            "order": null,
            "_view_module_version": "1.2.0",
            "grid_template_areas": null,
            "object_position": null,
            "object_fit": null,
            "grid_auto_columns": null,
            "margin": null,
            "display": null,
            "left": null
          }
        },
        "d5850f03ac394c97a8ab2e5b4a56a138": {
          "model_module": "@jupyter-widgets/controls",
          "model_name": "HBoxModel",
          "model_module_version": "1.5.0",
          "state": {
            "_view_name": "HBoxView",
            "_dom_classes": [],
            "_model_name": "HBoxModel",
            "_view_module": "@jupyter-widgets/controls",
            "_model_module_version": "1.5.0",
            "_view_count": null,
            "_view_module_version": "1.5.0",
            "box_style": "",
            "layout": "IPY_MODEL_9e3722df6a3b4999b365607a1f50a51b",
            "_model_module": "@jupyter-widgets/controls",
            "children": [
              "IPY_MODEL_f5f6ac1c3e004e92be0caa4f531f2928",
              "IPY_MODEL_19650f31eceb4cf2b85d5da9fe8b50eb",
              "IPY_MODEL_7738cc764d8647d6ac5ebaff6be51499"
            ]
          }
        },
        "9e3722df6a3b4999b365607a1f50a51b": {
          "model_module": "@jupyter-widgets/base",
          "model_name": "LayoutModel",
          "model_module_version": "1.2.0",
          "state": {
            "_view_name": "LayoutView",
            "grid_template_rows": null,
            "right": null,
            "justify_content": null,
            "_view_module": "@jupyter-widgets/base",
            "overflow": null,
            "_model_module_version": "1.2.0",
            "_view_count": null,
            "flex_flow": null,
            "width": null,
            "min_width": null,
            "border": null,
            "align_items": null,
            "bottom": null,
            "_model_module": "@jupyter-widgets/base",
            "top": null,
            "grid_column": null,
            "overflow_y": null,
            "overflow_x": null,
            "grid_auto_flow": null,
            "grid_area": null,
            "grid_template_columns": null,
            "flex": null,
            "_model_name": "LayoutModel",
            "justify_items": null,
            "grid_row": null,
            "max_height": null,
            "align_content": null,
            "visibility": null,
            "align_self": null,
            "height": null,
            "min_height": null,
            "padding": null,
            "grid_auto_rows": null,
            "grid_gap": null,
            "max_width": null,
            "order": null,
            "_view_module_version": "1.2.0",
            "grid_template_areas": null,
            "object_position": null,
            "object_fit": null,
            "grid_auto_columns": null,
            "margin": null,
            "display": null,
            "left": null
          }
        },
        "f5f6ac1c3e004e92be0caa4f531f2928": {
          "model_module": "@jupyter-widgets/controls",
          "model_name": "HTMLModel",
          "model_module_version": "1.5.0",
          "state": {
            "_view_name": "HTMLView",
            "style": "IPY_MODEL_5b73299cd6654800b2c705d652a68fb5",
            "_dom_classes": [],
            "description": "",
            "_model_name": "HTMLModel",
            "placeholder": "​",
            "_view_module": "@jupyter-widgets/controls",
            "_model_module_version": "1.5.0",
            "value": "",
            "_view_count": null,
            "_view_module_version": "1.5.0",
            "description_tooltip": null,
            "_model_module": "@jupyter-widgets/controls",
            "layout": "IPY_MODEL_f38abdeb208049f1a90ceafe0f923fe6"
          }
        },
        "19650f31eceb4cf2b85d5da9fe8b50eb": {
          "model_module": "@jupyter-widgets/controls",
          "model_name": "FloatProgressModel",
          "model_module_version": "1.5.0",
          "state": {
            "_view_name": "ProgressView",
            "style": "IPY_MODEL_d19e818c069e42cdacfe34b3c4c07f93",
            "_dom_classes": [],
            "description": "",
            "_model_name": "FloatProgressModel",
            "bar_style": "success",
            "max": 29515,
            "_view_module": "@jupyter-widgets/controls",
            "_model_module_version": "1.5.0",
            "value": 29515,
            "_view_count": null,
            "_view_module_version": "1.5.0",
            "orientation": "horizontal",
            "min": 0,
            "description_tooltip": null,
            "_model_module": "@jupyter-widgets/controls",
            "layout": "IPY_MODEL_ea65872da33846a1af59674999472560"
          }
        },
        "7738cc764d8647d6ac5ebaff6be51499": {
          "model_module": "@jupyter-widgets/controls",
          "model_name": "HTMLModel",
          "model_module_version": "1.5.0",
          "state": {
            "_view_name": "HTMLView",
            "style": "IPY_MODEL_bbfd394d437d475fad7b3c979c6c270c",
            "_dom_classes": [],
            "description": "",
            "_model_name": "HTMLModel",
            "placeholder": "​",
            "_view_module": "@jupyter-widgets/controls",
            "_model_module_version": "1.5.0",
            "value": " 29696/? [00:00&lt;00:00, 298493.92it/s]",
            "_view_count": null,
            "_view_module_version": "1.5.0",
            "description_tooltip": null,
            "_model_module": "@jupyter-widgets/controls",
            "layout": "IPY_MODEL_297a3d19f1d146d3972ca10f031268df"
          }
        },
        "5b73299cd6654800b2c705d652a68fb5": {
          "model_module": "@jupyter-widgets/controls",
          "model_name": "DescriptionStyleModel",
          "model_module_version": "1.5.0",
          "state": {
            "_view_name": "StyleView",
            "_model_name": "DescriptionStyleModel",
            "description_width": "",
            "_view_module": "@jupyter-widgets/base",
            "_model_module_version": "1.5.0",
            "_view_count": null,
            "_view_module_version": "1.2.0",
            "_model_module": "@jupyter-widgets/controls"
          }
        },
        "f38abdeb208049f1a90ceafe0f923fe6": {
          "model_module": "@jupyter-widgets/base",
          "model_name": "LayoutModel",
          "model_module_version": "1.2.0",
          "state": {
            "_view_name": "LayoutView",
            "grid_template_rows": null,
            "right": null,
            "justify_content": null,
            "_view_module": "@jupyter-widgets/base",
            "overflow": null,
            "_model_module_version": "1.2.0",
            "_view_count": null,
            "flex_flow": null,
            "width": null,
            "min_width": null,
            "border": null,
            "align_items": null,
            "bottom": null,
            "_model_module": "@jupyter-widgets/base",
            "top": null,
            "grid_column": null,
            "overflow_y": null,
            "overflow_x": null,
            "grid_auto_flow": null,
            "grid_area": null,
            "grid_template_columns": null,
            "flex": null,
            "_model_name": "LayoutModel",
            "justify_items": null,
            "grid_row": null,
            "max_height": null,
            "align_content": null,
            "visibility": null,
            "align_self": null,
            "height": null,
            "min_height": null,
            "padding": null,
            "grid_auto_rows": null,
            "grid_gap": null,
            "max_width": null,
            "order": null,
            "_view_module_version": "1.2.0",
            "grid_template_areas": null,
            "object_position": null,
            "object_fit": null,
            "grid_auto_columns": null,
            "margin": null,
            "display": null,
            "left": null
          }
        },
        "d19e818c069e42cdacfe34b3c4c07f93": {
          "model_module": "@jupyter-widgets/controls",
          "model_name": "ProgressStyleModel",
          "model_module_version": "1.5.0",
          "state": {
            "_view_name": "StyleView",
            "_model_name": "ProgressStyleModel",
            "description_width": "",
            "_view_module": "@jupyter-widgets/base",
            "_model_module_version": "1.5.0",
            "_view_count": null,
            "_view_module_version": "1.2.0",
            "bar_color": null,
            "_model_module": "@jupyter-widgets/controls"
          }
        },
        "ea65872da33846a1af59674999472560": {
          "model_module": "@jupyter-widgets/base",
          "model_name": "LayoutModel",
          "model_module_version": "1.2.0",
          "state": {
            "_view_name": "LayoutView",
            "grid_template_rows": null,
            "right": null,
            "justify_content": null,
            "_view_module": "@jupyter-widgets/base",
            "overflow": null,
            "_model_module_version": "1.2.0",
            "_view_count": null,
            "flex_flow": null,
            "width": null,
            "min_width": null,
            "border": null,
            "align_items": null,
            "bottom": null,
            "_model_module": "@jupyter-widgets/base",
            "top": null,
            "grid_column": null,
            "overflow_y": null,
            "overflow_x": null,
            "grid_auto_flow": null,
            "grid_area": null,
            "grid_template_columns": null,
            "flex": null,
            "_model_name": "LayoutModel",
            "justify_items": null,
            "grid_row": null,
            "max_height": null,
            "align_content": null,
            "visibility": null,
            "align_self": null,
            "height": null,
            "min_height": null,
            "padding": null,
            "grid_auto_rows": null,
            "grid_gap": null,
            "max_width": null,
            "order": null,
            "_view_module_version": "1.2.0",
            "grid_template_areas": null,
            "object_position": null,
            "object_fit": null,
            "grid_auto_columns": null,
            "margin": null,
            "display": null,
            "left": null
          }
        },
        "bbfd394d437d475fad7b3c979c6c270c": {
          "model_module": "@jupyter-widgets/controls",
          "model_name": "DescriptionStyleModel",
          "model_module_version": "1.5.0",
          "state": {
            "_view_name": "StyleView",
            "_model_name": "DescriptionStyleModel",
            "description_width": "",
            "_view_module": "@jupyter-widgets/base",
            "_model_module_version": "1.5.0",
            "_view_count": null,
            "_view_module_version": "1.2.0",
            "_model_module": "@jupyter-widgets/controls"
          }
        },
        "297a3d19f1d146d3972ca10f031268df": {
          "model_module": "@jupyter-widgets/base",
          "model_name": "LayoutModel",
          "model_module_version": "1.2.0",
          "state": {
            "_view_name": "LayoutView",
            "grid_template_rows": null,
            "right": null,
            "justify_content": null,
            "_view_module": "@jupyter-widgets/base",
            "overflow": null,
            "_model_module_version": "1.2.0",
            "_view_count": null,
            "flex_flow": null,
            "width": null,
            "min_width": null,
            "border": null,
            "align_items": null,
            "bottom": null,
            "_model_module": "@jupyter-widgets/base",
            "top": null,
            "grid_column": null,
            "overflow_y": null,
            "overflow_x": null,
            "grid_auto_flow": null,
            "grid_area": null,
            "grid_template_columns": null,
            "flex": null,
            "_model_name": "LayoutModel",
            "justify_items": null,
            "grid_row": null,
            "max_height": null,
            "align_content": null,
            "visibility": null,
            "align_self": null,
            "height": null,
            "min_height": null,
            "padding": null,
            "grid_auto_rows": null,
            "grid_gap": null,
            "max_width": null,
            "order": null,
            "_view_module_version": "1.2.0",
            "grid_template_areas": null,
            "object_position": null,
            "object_fit": null,
            "grid_auto_columns": null,
            "margin": null,
            "display": null,
            "left": null
          }
        },
        "0cec2538f44a445b9be95628ab6ead01": {
          "model_module": "@jupyter-widgets/controls",
          "model_name": "HBoxModel",
          "model_module_version": "1.5.0",
          "state": {
            "_view_name": "HBoxView",
            "_dom_classes": [],
            "_model_name": "HBoxModel",
            "_view_module": "@jupyter-widgets/controls",
            "_model_module_version": "1.5.0",
            "_view_count": null,
            "_view_module_version": "1.5.0",
            "box_style": "",
            "layout": "IPY_MODEL_689fad7f10bf4efba3c80b92bb33eb12",
            "_model_module": "@jupyter-widgets/controls",
            "children": [
              "IPY_MODEL_d0f71e2ab06b40d2aee62cb547a9989c",
              "IPY_MODEL_083c55a9fbe041c3b842b6deec236119",
              "IPY_MODEL_8e4422a873914886a5b72a6e5ba262fd"
            ]
          }
        },
        "689fad7f10bf4efba3c80b92bb33eb12": {
          "model_module": "@jupyter-widgets/base",
          "model_name": "LayoutModel",
          "model_module_version": "1.2.0",
          "state": {
            "_view_name": "LayoutView",
            "grid_template_rows": null,
            "right": null,
            "justify_content": null,
            "_view_module": "@jupyter-widgets/base",
            "overflow": null,
            "_model_module_version": "1.2.0",
            "_view_count": null,
            "flex_flow": null,
            "width": null,
            "min_width": null,
            "border": null,
            "align_items": null,
            "bottom": null,
            "_model_module": "@jupyter-widgets/base",
            "top": null,
            "grid_column": null,
            "overflow_y": null,
            "overflow_x": null,
            "grid_auto_flow": null,
            "grid_area": null,
            "grid_template_columns": null,
            "flex": null,
            "_model_name": "LayoutModel",
            "justify_items": null,
            "grid_row": null,
            "max_height": null,
            "align_content": null,
            "visibility": null,
            "align_self": null,
            "height": null,
            "min_height": null,
            "padding": null,
            "grid_auto_rows": null,
            "grid_gap": null,
            "max_width": null,
            "order": null,
            "_view_module_version": "1.2.0",
            "grid_template_areas": null,
            "object_position": null,
            "object_fit": null,
            "grid_auto_columns": null,
            "margin": null,
            "display": null,
            "left": null
          }
        },
        "d0f71e2ab06b40d2aee62cb547a9989c": {
          "model_module": "@jupyter-widgets/controls",
          "model_name": "HTMLModel",
          "model_module_version": "1.5.0",
          "state": {
            "_view_name": "HTMLView",
            "style": "IPY_MODEL_a3bc7355bb4a480ab3cf0cca89a6eb57",
            "_dom_classes": [],
            "description": "",
            "_model_name": "HTMLModel",
            "placeholder": "​",
            "_view_module": "@jupyter-widgets/controls",
            "_model_module_version": "1.5.0",
            "value": "",
            "_view_count": null,
            "_view_module_version": "1.5.0",
            "description_tooltip": null,
            "_model_module": "@jupyter-widgets/controls",
            "layout": "IPY_MODEL_14e1ce18b59c47cf989d2877c50e7e56"
          }
        },
        "083c55a9fbe041c3b842b6deec236119": {
          "model_module": "@jupyter-widgets/controls",
          "model_name": "FloatProgressModel",
          "model_module_version": "1.5.0",
          "state": {
            "_view_name": "ProgressView",
            "style": "IPY_MODEL_4380d2e82038434d9aadd9f190787515",
            "_dom_classes": [],
            "description": "",
            "_model_name": "FloatProgressModel",
            "bar_style": "success",
            "max": 4422102,
            "_view_module": "@jupyter-widgets/controls",
            "_model_module_version": "1.5.0",
            "value": 4422102,
            "_view_count": null,
            "_view_module_version": "1.5.0",
            "orientation": "horizontal",
            "min": 0,
            "description_tooltip": null,
            "_model_module": "@jupyter-widgets/controls",
            "layout": "IPY_MODEL_fd73bac8ec784060824a8aaf81a1b12e"
          }
        },
        "8e4422a873914886a5b72a6e5ba262fd": {
          "model_module": "@jupyter-widgets/controls",
          "model_name": "HTMLModel",
          "model_module_version": "1.5.0",
          "state": {
            "_view_name": "HTMLView",
            "style": "IPY_MODEL_e04cfaeff07142b5bcd8718b52488707",
            "_dom_classes": [],
            "description": "",
            "_model_name": "HTMLModel",
            "placeholder": "​",
            "_view_module": "@jupyter-widgets/controls",
            "_model_module_version": "1.5.0",
            "value": " 4422656/? [00:00&lt;00:00, 7733905.12it/s]",
            "_view_count": null,
            "_view_module_version": "1.5.0",
            "description_tooltip": null,
            "_model_module": "@jupyter-widgets/controls",
            "layout": "IPY_MODEL_e309247da7b1413db40eace82fabf060"
          }
        },
        "a3bc7355bb4a480ab3cf0cca89a6eb57": {
          "model_module": "@jupyter-widgets/controls",
          "model_name": "DescriptionStyleModel",
          "model_module_version": "1.5.0",
          "state": {
            "_view_name": "StyleView",
            "_model_name": "DescriptionStyleModel",
            "description_width": "",
            "_view_module": "@jupyter-widgets/base",
            "_model_module_version": "1.5.0",
            "_view_count": null,
            "_view_module_version": "1.2.0",
            "_model_module": "@jupyter-widgets/controls"
          }
        },
        "14e1ce18b59c47cf989d2877c50e7e56": {
          "model_module": "@jupyter-widgets/base",
          "model_name": "LayoutModel",
          "model_module_version": "1.2.0",
          "state": {
            "_view_name": "LayoutView",
            "grid_template_rows": null,
            "right": null,
            "justify_content": null,
            "_view_module": "@jupyter-widgets/base",
            "overflow": null,
            "_model_module_version": "1.2.0",
            "_view_count": null,
            "flex_flow": null,
            "width": null,
            "min_width": null,
            "border": null,
            "align_items": null,
            "bottom": null,
            "_model_module": "@jupyter-widgets/base",
            "top": null,
            "grid_column": null,
            "overflow_y": null,
            "overflow_x": null,
            "grid_auto_flow": null,
            "grid_area": null,
            "grid_template_columns": null,
            "flex": null,
            "_model_name": "LayoutModel",
            "justify_items": null,
            "grid_row": null,
            "max_height": null,
            "align_content": null,
            "visibility": null,
            "align_self": null,
            "height": null,
            "min_height": null,
            "padding": null,
            "grid_auto_rows": null,
            "grid_gap": null,
            "max_width": null,
            "order": null,
            "_view_module_version": "1.2.0",
            "grid_template_areas": null,
            "object_position": null,
            "object_fit": null,
            "grid_auto_columns": null,
            "margin": null,
            "display": null,
            "left": null
          }
        },
        "4380d2e82038434d9aadd9f190787515": {
          "model_module": "@jupyter-widgets/controls",
          "model_name": "ProgressStyleModel",
          "model_module_version": "1.5.0",
          "state": {
            "_view_name": "StyleView",
            "_model_name": "ProgressStyleModel",
            "description_width": "",
            "_view_module": "@jupyter-widgets/base",
            "_model_module_version": "1.5.0",
            "_view_count": null,
            "_view_module_version": "1.2.0",
            "bar_color": null,
            "_model_module": "@jupyter-widgets/controls"
          }
        },
        "fd73bac8ec784060824a8aaf81a1b12e": {
          "model_module": "@jupyter-widgets/base",
          "model_name": "LayoutModel",
          "model_module_version": "1.2.0",
          "state": {
            "_view_name": "LayoutView",
            "grid_template_rows": null,
            "right": null,
            "justify_content": null,
            "_view_module": "@jupyter-widgets/base",
            "overflow": null,
            "_model_module_version": "1.2.0",
            "_view_count": null,
            "flex_flow": null,
            "width": null,
            "min_width": null,
            "border": null,
            "align_items": null,
            "bottom": null,
            "_model_module": "@jupyter-widgets/base",
            "top": null,
            "grid_column": null,
            "overflow_y": null,
            "overflow_x": null,
            "grid_auto_flow": null,
            "grid_area": null,
            "grid_template_columns": null,
            "flex": null,
            "_model_name": "LayoutModel",
            "justify_items": null,
            "grid_row": null,
            "max_height": null,
            "align_content": null,
            "visibility": null,
            "align_self": null,
            "height": null,
            "min_height": null,
            "padding": null,
            "grid_auto_rows": null,
            "grid_gap": null,
            "max_width": null,
            "order": null,
            "_view_module_version": "1.2.0",
            "grid_template_areas": null,
            "object_position": null,
            "object_fit": null,
            "grid_auto_columns": null,
            "margin": null,
            "display": null,
            "left": null
          }
        },
        "e04cfaeff07142b5bcd8718b52488707": {
          "model_module": "@jupyter-widgets/controls",
          "model_name": "DescriptionStyleModel",
          "model_module_version": "1.5.0",
          "state": {
            "_view_name": "StyleView",
            "_model_name": "DescriptionStyleModel",
            "description_width": "",
            "_view_module": "@jupyter-widgets/base",
            "_model_module_version": "1.5.0",
            "_view_count": null,
            "_view_module_version": "1.2.0",
            "_model_module": "@jupyter-widgets/controls"
          }
        },
        "e309247da7b1413db40eace82fabf060": {
          "model_module": "@jupyter-widgets/base",
          "model_name": "LayoutModel",
          "model_module_version": "1.2.0",
          "state": {
            "_view_name": "LayoutView",
            "grid_template_rows": null,
            "right": null,
            "justify_content": null,
            "_view_module": "@jupyter-widgets/base",
            "overflow": null,
            "_model_module_version": "1.2.0",
            "_view_count": null,
            "flex_flow": null,
            "width": null,
            "min_width": null,
            "border": null,
            "align_items": null,
            "bottom": null,
            "_model_module": "@jupyter-widgets/base",
            "top": null,
            "grid_column": null,
            "overflow_y": null,
            "overflow_x": null,
            "grid_auto_flow": null,
            "grid_area": null,
            "grid_template_columns": null,
            "flex": null,
            "_model_name": "LayoutModel",
            "justify_items": null,
            "grid_row": null,
            "max_height": null,
            "align_content": null,
            "visibility": null,
            "align_self": null,
            "height": null,
            "min_height": null,
            "padding": null,
            "grid_auto_rows": null,
            "grid_gap": null,
            "max_width": null,
            "order": null,
            "_view_module_version": "1.2.0",
            "grid_template_areas": null,
            "object_position": null,
            "object_fit": null,
            "grid_auto_columns": null,
            "margin": null,
            "display": null,
            "left": null
          }
        },
        "c778897cf850474da8da5a6af9fd7476": {
          "model_module": "@jupyter-widgets/controls",
          "model_name": "HBoxModel",
          "model_module_version": "1.5.0",
          "state": {
            "_view_name": "HBoxView",
            "_dom_classes": [],
            "_model_name": "HBoxModel",
            "_view_module": "@jupyter-widgets/controls",
            "_model_module_version": "1.5.0",
            "_view_count": null,
            "_view_module_version": "1.5.0",
            "box_style": "",
            "layout": "IPY_MODEL_cd0084455e884220b6e7b6015ba471f6",
            "_model_module": "@jupyter-widgets/controls",
            "children": [
              "IPY_MODEL_fcc44afafab24b5280714b0212d533e6",
              "IPY_MODEL_f13317bab86f4dccb2b871eba508c6a6",
              "IPY_MODEL_0daa2e872d454a75a15e0c5a79725cfe"
            ]
          }
        },
        "cd0084455e884220b6e7b6015ba471f6": {
          "model_module": "@jupyter-widgets/base",
          "model_name": "LayoutModel",
          "model_module_version": "1.2.0",
          "state": {
            "_view_name": "LayoutView",
            "grid_template_rows": null,
            "right": null,
            "justify_content": null,
            "_view_module": "@jupyter-widgets/base",
            "overflow": null,
            "_model_module_version": "1.2.0",
            "_view_count": null,
            "flex_flow": null,
            "width": null,
            "min_width": null,
            "border": null,
            "align_items": null,
            "bottom": null,
            "_model_module": "@jupyter-widgets/base",
            "top": null,
            "grid_column": null,
            "overflow_y": null,
            "overflow_x": null,
            "grid_auto_flow": null,
            "grid_area": null,
            "grid_template_columns": null,
            "flex": null,
            "_model_name": "LayoutModel",
            "justify_items": null,
            "grid_row": null,
            "max_height": null,
            "align_content": null,
            "visibility": null,
            "align_self": null,
            "height": null,
            "min_height": null,
            "padding": null,
            "grid_auto_rows": null,
            "grid_gap": null,
            "max_width": null,
            "order": null,
            "_view_module_version": "1.2.0",
            "grid_template_areas": null,
            "object_position": null,
            "object_fit": null,
            "grid_auto_columns": null,
            "margin": null,
            "display": null,
            "left": null
          }
        },
        "fcc44afafab24b5280714b0212d533e6": {
          "model_module": "@jupyter-widgets/controls",
          "model_name": "HTMLModel",
          "model_module_version": "1.5.0",
          "state": {
            "_view_name": "HTMLView",
            "style": "IPY_MODEL_1c157f0b1d3c4b318ae18ddcf3ac2e57",
            "_dom_classes": [],
            "description": "",
            "_model_name": "HTMLModel",
            "placeholder": "​",
            "_view_module": "@jupyter-widgets/controls",
            "_model_module_version": "1.5.0",
            "value": "",
            "_view_count": null,
            "_view_module_version": "1.5.0",
            "description_tooltip": null,
            "_model_module": "@jupyter-widgets/controls",
            "layout": "IPY_MODEL_2688fa374cad4e9f8f88d2ed02805774"
          }
        },
        "f13317bab86f4dccb2b871eba508c6a6": {
          "model_module": "@jupyter-widgets/controls",
          "model_name": "FloatProgressModel",
          "model_module_version": "1.5.0",
          "state": {
            "_view_name": "ProgressView",
            "style": "IPY_MODEL_809d68c233fd4bc993ab20953591b718",
            "_dom_classes": [],
            "description": "",
            "_model_name": "FloatProgressModel",
            "bar_style": "success",
            "max": 5148,
            "_view_module": "@jupyter-widgets/controls",
            "_model_module_version": "1.5.0",
            "value": 5148,
            "_view_count": null,
            "_view_module_version": "1.5.0",
            "orientation": "horizontal",
            "min": 0,
            "description_tooltip": null,
            "_model_module": "@jupyter-widgets/controls",
            "layout": "IPY_MODEL_523677d4204c49ada5cf2f0096663235"
          }
        },
        "0daa2e872d454a75a15e0c5a79725cfe": {
          "model_module": "@jupyter-widgets/controls",
          "model_name": "HTMLModel",
          "model_module_version": "1.5.0",
          "state": {
            "_view_name": "HTMLView",
            "style": "IPY_MODEL_0a1ff20344a24beaa30968a9566a1288",
            "_dom_classes": [],
            "description": "",
            "_model_name": "HTMLModel",
            "placeholder": "​",
            "_view_module": "@jupyter-widgets/controls",
            "_model_module_version": "1.5.0",
            "value": " 6144/? [00:00&lt;00:00, 75014.49it/s]",
            "_view_count": null,
            "_view_module_version": "1.5.0",
            "description_tooltip": null,
            "_model_module": "@jupyter-widgets/controls",
            "layout": "IPY_MODEL_78c287e108404556a1f449ef78e30a51"
          }
        },
        "1c157f0b1d3c4b318ae18ddcf3ac2e57": {
          "model_module": "@jupyter-widgets/controls",
          "model_name": "DescriptionStyleModel",
          "model_module_version": "1.5.0",
          "state": {
            "_view_name": "StyleView",
            "_model_name": "DescriptionStyleModel",
            "description_width": "",
            "_view_module": "@jupyter-widgets/base",
            "_model_module_version": "1.5.0",
            "_view_count": null,
            "_view_module_version": "1.2.0",
            "_model_module": "@jupyter-widgets/controls"
          }
        },
        "2688fa374cad4e9f8f88d2ed02805774": {
          "model_module": "@jupyter-widgets/base",
          "model_name": "LayoutModel",
          "model_module_version": "1.2.0",
          "state": {
            "_view_name": "LayoutView",
            "grid_template_rows": null,
            "right": null,
            "justify_content": null,
            "_view_module": "@jupyter-widgets/base",
            "overflow": null,
            "_model_module_version": "1.2.0",
            "_view_count": null,
            "flex_flow": null,
            "width": null,
            "min_width": null,
            "border": null,
            "align_items": null,
            "bottom": null,
            "_model_module": "@jupyter-widgets/base",
            "top": null,
            "grid_column": null,
            "overflow_y": null,
            "overflow_x": null,
            "grid_auto_flow": null,
            "grid_area": null,
            "grid_template_columns": null,
            "flex": null,
            "_model_name": "LayoutModel",
            "justify_items": null,
            "grid_row": null,
            "max_height": null,
            "align_content": null,
            "visibility": null,
            "align_self": null,
            "height": null,
            "min_height": null,
            "padding": null,
            "grid_auto_rows": null,
            "grid_gap": null,
            "max_width": null,
            "order": null,
            "_view_module_version": "1.2.0",
            "grid_template_areas": null,
            "object_position": null,
            "object_fit": null,
            "grid_auto_columns": null,
            "margin": null,
            "display": null,
            "left": null
          }
        },
        "809d68c233fd4bc993ab20953591b718": {
          "model_module": "@jupyter-widgets/controls",
          "model_name": "ProgressStyleModel",
          "model_module_version": "1.5.0",
          "state": {
            "_view_name": "StyleView",
            "_model_name": "ProgressStyleModel",
            "description_width": "",
            "_view_module": "@jupyter-widgets/base",
            "_model_module_version": "1.5.0",
            "_view_count": null,
            "_view_module_version": "1.2.0",
            "bar_color": null,
            "_model_module": "@jupyter-widgets/controls"
          }
        },
        "523677d4204c49ada5cf2f0096663235": {
          "model_module": "@jupyter-widgets/base",
          "model_name": "LayoutModel",
          "model_module_version": "1.2.0",
          "state": {
            "_view_name": "LayoutView",
            "grid_template_rows": null,
            "right": null,
            "justify_content": null,
            "_view_module": "@jupyter-widgets/base",
            "overflow": null,
            "_model_module_version": "1.2.0",
            "_view_count": null,
            "flex_flow": null,
            "width": null,
            "min_width": null,
            "border": null,
            "align_items": null,
            "bottom": null,
            "_model_module": "@jupyter-widgets/base",
            "top": null,
            "grid_column": null,
            "overflow_y": null,
            "overflow_x": null,
            "grid_auto_flow": null,
            "grid_area": null,
            "grid_template_columns": null,
            "flex": null,
            "_model_name": "LayoutModel",
            "justify_items": null,
            "grid_row": null,
            "max_height": null,
            "align_content": null,
            "visibility": null,
            "align_self": null,
            "height": null,
            "min_height": null,
            "padding": null,
            "grid_auto_rows": null,
            "grid_gap": null,
            "max_width": null,
            "order": null,
            "_view_module_version": "1.2.0",
            "grid_template_areas": null,
            "object_position": null,
            "object_fit": null,
            "grid_auto_columns": null,
            "margin": null,
            "display": null,
            "left": null
          }
        },
        "0a1ff20344a24beaa30968a9566a1288": {
          "model_module": "@jupyter-widgets/controls",
          "model_name": "DescriptionStyleModel",
          "model_module_version": "1.5.0",
          "state": {
            "_view_name": "StyleView",
            "_model_name": "DescriptionStyleModel",
            "description_width": "",
            "_view_module": "@jupyter-widgets/base",
            "_model_module_version": "1.5.0",
            "_view_count": null,
            "_view_module_version": "1.2.0",
            "_model_module": "@jupyter-widgets/controls"
          }
        },
        "78c287e108404556a1f449ef78e30a51": {
          "model_module": "@jupyter-widgets/base",
          "model_name": "LayoutModel",
          "model_module_version": "1.2.0",
          "state": {
            "_view_name": "LayoutView",
            "grid_template_rows": null,
            "right": null,
            "justify_content": null,
            "_view_module": "@jupyter-widgets/base",
            "overflow": null,
            "_model_module_version": "1.2.0",
            "_view_count": null,
            "flex_flow": null,
            "width": null,
            "min_width": null,
            "border": null,
            "align_items": null,
            "bottom": null,
            "_model_module": "@jupyter-widgets/base",
            "top": null,
            "grid_column": null,
            "overflow_y": null,
            "overflow_x": null,
            "grid_auto_flow": null,
            "grid_area": null,
            "grid_template_columns": null,
            "flex": null,
            "_model_name": "LayoutModel",
            "justify_items": null,
            "grid_row": null,
            "max_height": null,
            "align_content": null,
            "visibility": null,
            "align_self": null,
            "height": null,
            "min_height": null,
            "padding": null,
            "grid_auto_rows": null,
            "grid_gap": null,
            "max_width": null,
            "order": null,
            "_view_module_version": "1.2.0",
            "grid_template_areas": null,
            "object_position": null,
            "object_fit": null,
            "grid_auto_columns": null,
            "margin": null,
            "display": null,
            "left": null
          }
        }
      }
    }
  },
  "cells": [
    {
      "cell_type": "code",
      "execution_count": null,
      "source": [
        "!pip install -U d2l\n",
        "!python -m pip install paddlepaddle -i https://mirror.baidu.com/pypi/simple"
      ],
      "outputs": [],
      "metadata": {
        "colab": {
          "base_uri": "https://localhost:8080/"
        },
        "id": "gkOpVqCl5cKN",
        "outputId": "ece64b32-363f-4c13-8967-07e80a991dad"
      }
    },
    {
      "cell_type": "code",
      "execution_count": null,
      "source": [
        "import paddle\n",
        "import matplotlib.pyplot as plt\n",
        "import numpy as np"
      ],
      "outputs": [],
      "metadata": {
        "id": "bG7ZrCnc5lnB"
      }
    },
    {
      "cell_type": "markdown",
      "source": [
        "# softmax回归的从0开始实现\n",
        "\n",
        "就像我们从零开始实现线性回归一样，我们认为softmax回归也是重要的基础，因此你应该知道实现softmax的细节。我们使用刚刚在 3.5节中引入的Fashion-MNIST数据集，并设置数据迭代器的批量大小为256。\n",
        "\n",
        "#### torch版"
      ],
      "metadata": {
        "id": "wmOf3t5K5CsT"
      }
    },
    {
      "cell_type": "code",
      "execution_count": null,
      "source": [
        "import torch\n",
        "from IPython import display\n",
        "from d2l import torch as d2l\n",
        "\n",
        "batch_size = 256\n",
        "train_iter, test_iter = d2l.load_data_fashion_mnist(batch_size)"
      ],
      "outputs": [],
      "metadata": {
        "colab": {
          "base_uri": "https://localhost:8080/",
          "height": 505,
          "referenced_widgets": [
            "49f19f6f1d424b2b961620f34b07fe9a",
            "e8cce74e86e34fa080ee09fa5a1069da",
            "c0faf82f8b454807af795538b8db36a5",
            "a6e28ee517d6481aa9be5b606dd096bc",
            "67eb4d1cf67c4d4ca12115d63dbf1f0c",
            "23a954e7d6a74c8fa27c35bcf2c412d2",
            "f2dd0078ebf84264b1708d7c4e5f3c0b",
            "702938e466504dc296b9a12f604cced0",
            "f536a470d0cc4e008f6b38640827d78d",
            "356d1235b40b43cfab325697a9f236a6",
            "8b433a4fe6ad4c648271a8d96f4f5943",
            "d5850f03ac394c97a8ab2e5b4a56a138",
            "9e3722df6a3b4999b365607a1f50a51b",
            "f5f6ac1c3e004e92be0caa4f531f2928",
            "19650f31eceb4cf2b85d5da9fe8b50eb",
            "7738cc764d8647d6ac5ebaff6be51499",
            "5b73299cd6654800b2c705d652a68fb5",
            "f38abdeb208049f1a90ceafe0f923fe6",
            "d19e818c069e42cdacfe34b3c4c07f93",
            "ea65872da33846a1af59674999472560",
            "bbfd394d437d475fad7b3c979c6c270c",
            "297a3d19f1d146d3972ca10f031268df",
            "0cec2538f44a445b9be95628ab6ead01",
            "689fad7f10bf4efba3c80b92bb33eb12",
            "d0f71e2ab06b40d2aee62cb547a9989c",
            "083c55a9fbe041c3b842b6deec236119",
            "8e4422a873914886a5b72a6e5ba262fd",
            "a3bc7355bb4a480ab3cf0cca89a6eb57",
            "14e1ce18b59c47cf989d2877c50e7e56",
            "4380d2e82038434d9aadd9f190787515",
            "fd73bac8ec784060824a8aaf81a1b12e",
            "e04cfaeff07142b5bcd8718b52488707",
            "e309247da7b1413db40eace82fabf060",
            "c778897cf850474da8da5a6af9fd7476",
            "cd0084455e884220b6e7b6015ba471f6",
            "fcc44afafab24b5280714b0212d533e6",
            "f13317bab86f4dccb2b871eba508c6a6",
            "0daa2e872d454a75a15e0c5a79725cfe",
            "1c157f0b1d3c4b318ae18ddcf3ac2e57",
            "2688fa374cad4e9f8f88d2ed02805774",
            "809d68c233fd4bc993ab20953591b718",
            "523677d4204c49ada5cf2f0096663235",
            "0a1ff20344a24beaa30968a9566a1288",
            "78c287e108404556a1f449ef78e30a51"
          ]
        },
        "id": "T9zOpK6ZjOfk",
        "outputId": "41171307-184d-4bf7-93e6-f7b1f669abc0"
      }
    },
    {
      "cell_type": "markdown",
      "source": [
        "#### paddle版"
      ],
      "metadata": {
        "id": "kAJht9MXjRbg"
      }
    },
    {
      "cell_type": "code",
      "execution_count": null,
      "source": [
        "def paddle_load_data_fashion_mnist(batch_size, resize=None):\n",
        "    \"\"\"下载Fashion-MNIST数据集，然后将其加载到内存中。\"\"\"\n",
        "    trans = [transforms.ToTensor()]\n",
        "    if resize:\n",
        "        trans.insert(0, transforms.Resize(resize))\n",
        "    trans = transforms.Compose(trans)\n",
        "    paddle_transform = T.Compose([T.Normalize(mean=[127.5],std=[127.5],data_format='CHW')])\n",
        "    paddle_train = paddle.vision.datasets.FashionMNIST(mode='train', transform=paddle_transform)\n",
        "    paddle_test = paddle.vision.datasets.FashionMNIST(mode='test', transform=paddle_transform)\n",
        "    return (paddle.io.DataLoader(paddle_train, batch_size, shuffle=True,\n",
        "                            num_workers=paddle_get_dataloader_workers()),\n",
        "            paddle.io.DataLoader(paddle_test, batch_size, shuffle=False,\n",
        "                            num_workers=paddle_get_dataloader_workers()))"
      ],
      "outputs": [],
      "metadata": {
        "id": "6OqhH8i55vJt"
      }
    },
    {
      "cell_type": "code",
      "execution_count": null,
      "source": [
        "batch_size = 256\n",
        "paddle_train_iter, paddle_test_iter = d2l.load_data_fashion_mnist(batch_size)"
      ],
      "outputs": [],
      "metadata": {
        "colab": {
          "base_uri": "https://localhost:8080/"
        },
        "id": "feNtR1T7503M",
        "outputId": "c49548f5-3aa4-4cfb-fbaf-6d29277650f0"
      }
    },
    {
      "cell_type": "markdown",
      "source": [
        "## 3.6.1 初始化模型参数\n",
        "\n",
        "和之前线性回归的例子一样，这里的每个样本都将用固定长度的向量表示。原始数据集中的每个样本都是 28×28 的图像。在本节中，我们将展平每个图像，把它们看作长度为784的向量。在后面的章节中，将讨论能够利用图像空间结构的更为复杂的策略，但现在我们暂时只把每个像素位置看作一个特征。\n",
        "\n",
        "回想一下，在softmax回归中，我们的输出与类别一样多。因为我们的数据集有10个类别，所以网络输出维度为10。因此，权重将构成一个 784×10 的矩阵，偏置将构成一个 1×10 的行向量。与线性回归一样，我们将使用正态分布初始化我们的权重W，偏置初始化为0。\n",
        "\n",
        "#### torch版\n",
        "\n"
      ],
      "metadata": {
        "id": "7cdZYH4Z5-je"
      }
    },
    {
      "cell_type": "code",
      "execution_count": null,
      "source": [
        "num_inputs = 784\n",
        "num_outputs = 10\n",
        "\n",
        "W = torch.normal(0, 0.01, size=(num_inputs, num_outputs), requires_grad=True)\n",
        "b = torch.zeros(num_outputs, requires_grad=True)"
      ],
      "outputs": [],
      "metadata": {
        "id": "lpqlMXpR6U6Z"
      }
    },
    {
      "cell_type": "markdown",
      "source": [
        "#### paddle版"
      ],
      "metadata": {
        "id": "VyFAxxo86Wb3"
      }
    },
    {
      "cell_type": "code",
      "execution_count": null,
      "source": [
        "num_inputs = 784\n",
        "num_outputs = 10\n",
        "\n",
        "paddle_W = paddle.normal(0, 0.01, shape=(num_inputs, num_outputs))\n",
        "paddle_b = paddle.zeros(shape=(num_outputs,1))"
      ],
      "outputs": [],
      "metadata": {
        "id": "5adca0XO6Ybm"
      }
    },
    {
      "cell_type": "markdown",
      "source": [
        "## 3.6.2 定义softmax操作\n",
        "\n",
        "在实现softmax回归模型之前，让我们简要地回顾一下sum运算符如何沿着张量中的特定维度工作，如 2.3.6节和 2.3.6.1节所述。给定一个矩阵X，我们可以对所有元素求和（默认情况下），也可以只求同一个轴上的元素，即同一列（轴0）或同一行（轴1）。如果X是一个形状为(2, 3)的张量，我们对列进行求和，则结果将是一个具有形状(3,)的向量。当调用sum运算符时，我们可以指定保持在原始张量的轴数，而不折叠求和的维度。这将产生一个具有形状(1, 3)的二维张量。\n",
        "\n",
        "#### torch版"
      ],
      "metadata": {
        "id": "zp0lZAwu7dGU"
      }
    },
    {
      "cell_type": "code",
      "execution_count": null,
      "source": [
        "X = torch.tensor([[1.0, 2.0, 3.0], [4.0, 5.0, 6.0]])\n",
        "X.sum(0, keepdim=True), X.sum(1, keepdim=True)"
      ],
      "outputs": [],
      "metadata": {
        "colab": {
          "base_uri": "https://localhost:8080/"
        },
        "id": "PpPHcjUM7nUw",
        "outputId": "864b6fd7-d74d-412c-cf4b-68857e66b18a"
      }
    },
    {
      "cell_type": "markdown",
      "source": [
        "#### paddle版"
      ],
      "metadata": {
        "id": "z4L1Boa972pB"
      }
    },
    {
      "cell_type": "code",
      "execution_count": null,
      "source": [
        "paddle_X = paddle.to_tensor([[1.0, 2.0, 3.0], [4.0, 5.0, 6.0]])\n",
        "paddle_X.sum(0, keepdim=True), paddle_X.sum(1, keepdim=True)"
      ],
      "outputs": [],
      "metadata": {
        "colab": {
          "base_uri": "https://localhost:8080/"
        },
        "id": "k1GKHC80742C",
        "outputId": "94a2854b-4caa-4647-94a0-6cb113e9e984"
      }
    },
    {
      "cell_type": "markdown",
      "source": [
        "我们现在已经准备好实现softmax操作了。回想一下，softmax由三个步骤组成:\n",
        " \n",
        "\n",
        "*   对每个项求幂（使用exp）；\n",
        "*   对每一行求和（小批量中每个样本是一行），得到每个样本的归一化常数；\n",
        "*   将每一行除以其归一化常数，确保结果的和为1。\n",
        "\n",
        "在查看代码之前，让我们回顾一下这个表达式\n",
        "\n",
        "$$softmax(X)_{ij}=\\frac{exp(X_{ij})}{\\sum_k exp(X_{ik})}$$\n",
        " \n",
        "分母或归一化常数，有时也称为配分函数（其对数称为对数-配分函数）。该名称的起源来自统计物理学中一个模拟粒子群分布的方程。"
      ],
      "metadata": {
        "id": "aK-uarUY8St9"
      }
    },
    {
      "cell_type": "code",
      "execution_count": null,
      "source": [
        "def softmax(X):\n",
        "    X_exp = torch.exp(X)\n",
        "    partition = X_exp.sum(1, keepdim=True)\n",
        "    return X_exp / partition  # 这里应用了广播机制"
      ],
      "outputs": [],
      "metadata": {
        "id": "mh8AVZU38_QW"
      }
    },
    {
      "cell_type": "markdown",
      "source": [
        "正如你所看到的，对于任何随机输入，我们将每个元素变成一个非负数。此外，依据概率原理，每行总和为1。\n"
      ],
      "metadata": {
        "id": "wUPIbaAF9Gfl"
      }
    },
    {
      "cell_type": "code",
      "execution_count": null,
      "source": [
        "X = torch.normal(0, 1, (2, 5))\n",
        "X_prob = softmax(X)\n",
        "X_prob, X_prob.sum(1)"
      ],
      "outputs": [],
      "metadata": {
        "colab": {
          "base_uri": "https://localhost:8080/"
        },
        "id": "LCk_AveF9Hq0",
        "outputId": "1a16f05b-c825-4bbf-d57f-c62266596691"
      }
    },
    {
      "cell_type": "markdown",
      "source": [
        "#### paddle版"
      ],
      "metadata": {
        "id": "PEyi_-Nj9L_b"
      }
    },
    {
      "cell_type": "code",
      "execution_count": null,
      "source": [
        "def paddle_softmax(X):\n",
        "    paddle_X_exp = paddle.exp(X)\n",
        "    paddle_partition = paddle_X_exp.sum(1, keepdim=True)\n",
        "    return paddle_X_exp / paddle_partition  # 这里应用了广播机制"
      ],
      "outputs": [],
      "metadata": {
        "id": "KBbuVsF89K5s"
      }
    },
    {
      "cell_type": "code",
      "execution_count": null,
      "source": [
        "paddle_X = paddle.normal(0, 1, (2, 5))\n",
        "paddle_X_prob = paddle_softmax(paddle_X)\n",
        "paddle_X_prob, paddle_X_prob.sum(1)"
      ],
      "outputs": [],
      "metadata": {
        "colab": {
          "base_uri": "https://localhost:8080/"
        },
        "id": "QBAc8AzK9b36",
        "outputId": "121ac5cf-bccd-487b-989f-86ad091fb349"
      }
    },
    {
      "cell_type": "markdown",
      "source": [
        "## 3.6.3 定义模型\n",
        "\n",
        "现在我们已经定义了softmax操作，我们可以实现softmax回归模型。下面的代码定义了输入如何通过网络映射到输出。注意，在将数据传递到我们的模型之前，我们使用reshape函数将每张原始图像展平为向量。\n",
        "\n",
        "#### torch版"
      ],
      "metadata": {
        "id": "5VIsdM4Z9ncH"
      }
    },
    {
      "cell_type": "code",
      "execution_count": null,
      "source": [
        "def net(X):\n",
        "    return softmax(torch.matmul(X.reshape((-1, W.shape[0])), W) + b)"
      ],
      "outputs": [],
      "metadata": {
        "id": "W4042QcO9wam"
      }
    },
    {
      "cell_type": "markdown",
      "source": [
        "#### paddle版"
      ],
      "metadata": {
        "id": "0RTUnA4790O1"
      }
    },
    {
      "cell_type": "code",
      "execution_count": null,
      "source": [
        "def paddle_net(X):\n",
        "    return paddle_softmax(paddle.matmul(X.reshape((-1, paddle_W.shape[0])), paddle_W) + paddle_b)"
      ],
      "outputs": [],
      "metadata": {
        "id": "4p9Si8U391_d"
      }
    },
    {
      "cell_type": "markdown",
      "source": [
        "## 3.6.4 定义损失函数\n",
        "\n",
        "接下来，我们需要实现 3.4节中引入的交叉熵损失函数。这可能是深度学习中最常见的损失函数，因为目前分类问题的数量远远超过回归问题。\n",
        "\n",
        "回顾一下，交叉熵采用真实标签的预测概率的负对数似然。我们不需要使用Python的for循环迭代预测（这往往是低效的）。我们可以通过一个运算符选择所有元素。 下面，我们创建一个数据y_hat，其中包含2个样本在3个类别的预测概率，它们对应的标签y。 有了y，我们知道在第一个样本中，第一类是正确的预测，而在第二个样本中，第三类是正确的预测。 然后使用y作为y_hat中概率的索引，我们选择第一个样本中第一个类的概率和第二个样本中第三个类的概率。\n",
        "\n",
        "#### torch版"
      ],
      "metadata": {
        "id": "k_2pvfm3-CVv"
      }
    },
    {
      "cell_type": "code",
      "execution_count": null,
      "source": [
        "y = torch.tensor([0, 2])\n",
        "y_hat = torch.tensor([[0.1, 0.3, 0.6], [0.3, 0.2, 0.5]])\n",
        "y_hat[[0, 1], y]"
      ],
      "outputs": [],
      "metadata": {
        "colab": {
          "base_uri": "https://localhost:8080/"
        },
        "id": "PUbaaoEh-OFw",
        "outputId": "3654c807-ad5c-40a6-d758-79545562d704"
      }
    },
    {
      "cell_type": "code",
      "execution_count": null,
      "source": [
        "def cross_entropy(y_hat, y):\n",
        "    return - torch.log(y_hat[range(len(y_hat)), y])\n",
        "\n",
        "cross_entropy(y_hat, y)"
      ],
      "outputs": [],
      "metadata": {
        "colab": {
          "base_uri": "https://localhost:8080/"
        },
        "id": "-Vx3OWKWBBGl",
        "outputId": "ad03663a-75a8-4703-ee36-440e699b9ea0"
      }
    },
    {
      "cell_type": "markdown",
      "source": [
        "#### paddle版"
      ],
      "metadata": {
        "id": "1h6TFLP9BDV6"
      }
    },
    {
      "cell_type": "code",
      "execution_count": null,
      "source": [
        "paddle_y = paddle.to_tensor([0, 2])\n",
        "paddle_y_hat = paddle.to_tensor([[0.1, 0.3, 0.6], [0.3, 0.2, 0.5]])\n",
        "paddle_y_hat[[0, 1], paddle_y]"
      ],
      "outputs": [],
      "metadata": {
        "id": "6D114x11BKRQ"
      }
    },
    {
      "cell_type": "code",
      "execution_count": null,
      "source": [
        "def paddle_cross_entropy(y_hat, y):\n",
        "    return - paddle.log(y_hat[range(len(y_hat)), y])\n",
        "\n",
        "cross_entropy(paddle_y_hat, paddle_y)"
      ],
      "outputs": [],
      "metadata": {
        "id": "hNpo-mFnBwUg"
      }
    },
    {
      "cell_type": "markdown",
      "source": [
        "## 3.6.5 分类准确率\n",
        "\n",
        "给定预测概率分布y_hat，当我们必须输出硬预测（hard prediction）时，我们通常选择预测概率最高的类。许多应用都要求我们做出选择。如Gmail必须将电子邮件分为“Primary（主要）”、“Social（社交）”、“Updates（更新）”或“Forums（论坛）”。它可能在内部估计概率，但最终它必须在类中选择一个。\n",
        "\n",
        "当预测与标签分类y一致时，它们是正确的。分类准确率即正确预测数量与总预测数量之比。虽然直接优化准确率可能很困难（因为准确率的计算不可导），但准确率通常是我们最关心的性能衡量标准，我们在训练分类器时几乎总是会报告它。\n",
        "\n",
        "为了计算准确率，我们执行以下操作。首先，如果y_hat是矩阵，那么假定第二个维度存储每个类的预测分数。我们使用argmax获得每行中最大元素的索引来获得预测类别。然后我们将预测类别与真实y元素进行比较。由于等式运算符“==”对数据类型很敏感，因此我们将y_hat的数据类型转换为与y的数据类型一致。结果是一个包含0（错）和1（对）的张量。进行求和会得到正确预测的数量。\n",
        "\n",
        "#### torch版"
      ],
      "metadata": {
        "id": "Lmt4OOoUCFSG"
      }
    },
    {
      "cell_type": "code",
      "execution_count": null,
      "source": [
        "def accuracy(y_hat, y): \n",
        "    \"\"\"计算预测正确的数量。\"\"\"\n",
        "    if len(y_hat.shape) > 1 and y_hat.shape[1] > 1:\n",
        "        y_hat = y_hat.argmax(axis=1)\n",
        "    cmp = y_hat.type(y.dtype) == y\n",
        "    return float(cmp.type(y.dtype).sum())"
      ],
      "outputs": [],
      "metadata": {
        "id": "95NFPophCQSI"
      }
    },
    {
      "cell_type": "markdown",
      "source": [
        "我们将继续使用之前定义的变量y_hat和y分别作为预测的概率分布和标签。我们可以看到，第一个样本的预测类别是2（该行的最大元素为0.6，索引为2），这与实际标签0不一致。第二个样本的预测类别是2（该行的最大元素为0.5，索引为2），这与实际标签2一致。因此，这两个样本的分类准确率率为0.5。"
      ],
      "metadata": {
        "id": "U1dW-VSkCVjS"
      }
    },
    {
      "cell_type": "code",
      "execution_count": null,
      "source": [
        "accuracy(y_hat, y) / len(y)"
      ],
      "outputs": [],
      "metadata": {
        "colab": {
          "base_uri": "https://localhost:8080/"
        },
        "id": "YOGtv8HLCY-D",
        "outputId": "0eb513cc-3d76-4236-8f56-6bfc9eb6b46f"
      }
    },
    {
      "cell_type": "markdown",
      "source": [
        "同样，对于任意数据迭代器data_iter可访问的数据集，我们可以评估在任意模型net的准确率。\n"
      ],
      "metadata": {
        "id": "uP1eFJ01C2nl"
      }
    },
    {
      "cell_type": "code",
      "execution_count": null,
      "source": [
        "def evaluate_accuracy(net, data_iter):\n",
        "    \"\"\"计算在指定数据集上模型的精度。\"\"\"\n",
        "    if isinstance(net, torch.nn.Module):\n",
        "        net.eval()  # 将模型设置为评估模式\n",
        "    metric = Accumulator(2)  # 正确预测数、预测总数\n",
        "    for X, y in data_iter:\n",
        "        metric.add(accuracy(net(X), y), y.numel())\n",
        "    return metric[0] / metric[1]"
      ],
      "outputs": [],
      "metadata": {
        "id": "BkmQJu4yDYD-"
      }
    },
    {
      "cell_type": "markdown",
      "source": [
        "这里Accumulator是一个实用程序类，用于对多个变量进行累加。 在上面的evaluate_accuracy函数中，我们在Accumulator实例中创建了2个变量，用于分别存储正确预测的数量和预测的总数量。当我们遍历数据集时，两者都将随着时间的推移而累加。"
      ],
      "metadata": {
        "id": "LtopnAuhDx5C"
      }
    },
    {
      "cell_type": "code",
      "execution_count": null,
      "source": [
        "class Accumulator: \n",
        "    \"\"\"在`n`个变量上累加。\"\"\"\n",
        "    def __init__(self, n):\n",
        "        self.data = [0.0] * n\n",
        "\n",
        "    def add(self, *args):\n",
        "        self.data = [a + float(b) for a, b in zip(self.data, args)]\n",
        "\n",
        "    def reset(self):\n",
        "        self.data = [0.0] * len(self.data)\n",
        "\n",
        "    def __getitem__(self, idx):\n",
        "        return self.data[idx]"
      ],
      "outputs": [],
      "metadata": {
        "id": "x2qVL3VBDyzf"
      }
    },
    {
      "cell_type": "markdown",
      "source": [
        "由于我们使用随机权重初始化net模型，因此该模型的准确率应接近于随机猜测。例如在有10个类别情况下的准确率为0.1。"
      ],
      "metadata": {
        "id": "3Q6I70-fD4qO"
      }
    },
    {
      "cell_type": "code",
      "execution_count": null,
      "source": [
        "evaluate_accuracy(net, test_iter)"
      ],
      "outputs": [],
      "metadata": {
        "colab": {
          "base_uri": "https://localhost:8080/"
        },
        "id": "_DzRS3MLD62_",
        "outputId": "be317f32-1b0e-46d4-cc46-9670d1b94e43"
      }
    },
    {
      "cell_type": "markdown",
      "source": [
        "#### paddle版"
      ],
      "metadata": {
        "id": "AgbCrm9iD9Yc"
      }
    },
    {
      "cell_type": "code",
      "execution_count": null,
      "source": [
        "def paddle_accuracy(y_hat, y):\n",
        "    \"\"\"计算预测正确的数量。\"\"\"\n",
        "    if len(y_hat.shape) > 1 and y_hat.shape[1] > 1:\n",
        "        y_hat = y_hat.argmax(axis=1)\n",
        "    cmp = y_hat.type(y.dtype) == y\n",
        "    return float(cmp.type(y.dtype).sum())"
      ],
      "outputs": [],
      "metadata": {
        "id": "b31yZJyUD_gr"
      }
    },
    {
      "cell_type": "code",
      "execution_count": null,
      "source": [
        "accuracy(paddle_y_hat, paddle_y) / len(paddle_y)"
      ],
      "outputs": [],
      "metadata": {
        "id": "i7rgf6KmEMjV"
      }
    },
    {
      "cell_type": "code",
      "execution_count": null,
      "source": [
        "def paddle_evaluate_accuracy(net, data_iter):\n",
        "    \"\"\"计算在指定数据集上模型的精度。\"\"\"\n",
        "    if isinstance(net, paddle.nn.Module):\n",
        "        net.eval()  # 将模型设置为评估模式\n",
        "    metric = Accumulator(2)  # 正确预测数、预测总数\n",
        "    for X, y in data_iter:\n",
        "        metric.add(accuracy(net(X), y), y.numel())\n",
        "    return metric[0] / metric[1]"
      ],
      "outputs": [],
      "metadata": {
        "id": "lRxxOVutEUDr"
      }
    },
    {
      "cell_type": "code",
      "execution_count": null,
      "source": [
        "paddle_evaluate_accuracy(paddle_net, paddle_test_iter)"
      ],
      "outputs": [],
      "metadata": {
        "id": "0hl4OXuIEgU0"
      }
    },
    {
      "cell_type": "markdown",
      "source": [
        "## 3.6.6 训练\n",
        "\n",
        "#### torch版"
      ],
      "metadata": {
        "id": "9EvTk-TDEraB"
      }
    },
    {
      "cell_type": "code",
      "execution_count": null,
      "source": [
        "def train_epoch_ch3(net, train_iter, loss, updater):\n",
        "    \"\"\"训练模型一个迭代周期（定义见第3章）。\"\"\"\n",
        "    # 将模型设置为训练模式\n",
        "    if isinstance(net, torch.nn.Module):\n",
        "        net.train()\n",
        "    # 训练损失总和、训练准确度总和、样本数\n",
        "    metric = Accumulator(3)\n",
        "    for X, y in train_iter:\n",
        "        # 计算梯度并更新参数\n",
        "        y_hat = net(X)\n",
        "        l = loss(y_hat, y)\n",
        "        if isinstance(updater, torch.optim.Optimizer):\n",
        "            # 使用PyTorch内置的优化器和损失函数\n",
        "            updater.zero_grad()\n",
        "            l.backward()\n",
        "            updater.step()\n",
        "            metric.add(float(l) * len(y), accuracy(y_hat, y),\n",
        "                       y.size().numel())\n",
        "        else:\n",
        "            # 使用定制的优化器和损失函数\n",
        "            l.sum().backward()\n",
        "            updater(X.shape[0])\n",
        "            metric.add(float(l.sum()), accuracy(y_hat, y), y.numel())\n",
        "    # 返回训练损失和训练准确率\n",
        "    return metric[0] / metric[2], metric[1] / metric[2]"
      ],
      "outputs": [],
      "metadata": {
        "id": "2_uM70blEyTZ"
      }
    },
    {
      "cell_type": "markdown",
      "source": [
        "在展示训练函数的实现之前，我们定义一个在动画中绘制数据的实用程序类。它能够简化本书其余部分的代码。\n",
        "\n"
      ],
      "metadata": {
        "id": "Ds2pEeF5E5BQ"
      }
    },
    {
      "cell_type": "code",
      "execution_count": null,
      "source": [
        "class Animator:\n",
        "    \"\"\"在动画中绘制数据。\"\"\"\n",
        "    def __init__(self, xlabel=None, ylabel=None, legend=None, xlim=None,\n",
        "                 ylim=None, xscale='linear', yscale='linear',\n",
        "                 fmts=('-', 'm--', 'g-.', 'r:'), nrows=1, ncols=1,\n",
        "                 figsize=(3.5, 2.5)):\n",
        "        # 增量地绘制多条线\n",
        "        if legend is None:\n",
        "            legend = []\n",
        "        d2l.use_svg_display()\n",
        "        self.fig, self.axes = d2l.plt.subplots(nrows, ncols, figsize=figsize)\n",
        "        if nrows * ncols == 1:\n",
        "            self.axes = [self.axes, ]\n",
        "        # 使用lambda函数捕获参数\n",
        "        self.config_axes = lambda: d2l.set_axes(\n",
        "            self.axes[0], xlabel, ylabel, xlim, ylim, xscale, yscale, legend)\n",
        "        self.X, self.Y, self.fmts = None, None, fmts\n",
        "\n",
        "    def add(self, x, y):\n",
        "        # 向图表中添加多个数据点\n",
        "        if not hasattr(y, \"__len__\"):\n",
        "            y = [y]\n",
        "        n = len(y)\n",
        "        if not hasattr(x, \"__len__\"):\n",
        "            x = [x] * n\n",
        "        if not self.X:\n",
        "            self.X = [[] for _ in range(n)]\n",
        "        if not self.Y:\n",
        "            self.Y = [[] for _ in range(n)]\n",
        "        for i, (a, b) in enumerate(zip(x, y)):\n",
        "            if a is not None and b is not None:\n",
        "                self.X[i].append(a)\n",
        "                self.Y[i].append(b)\n",
        "        self.axes[0].cla()\n",
        "        for x, y, fmt in zip(self.X, self.Y, self.fmts):\n",
        "            self.axes[0].plot(x, y, fmt)\n",
        "        self.config_axes()\n",
        "        display.display(self.fig)\n",
        "        display.clear_output(wait=True)"
      ],
      "outputs": [],
      "metadata": {
        "id": "Ekuu3Y7gE7sY"
      }
    },
    {
      "cell_type": "markdown",
      "source": [
        "\n",
        "接下来我们实现一个训练函数，它会在train_iter访问到的训练数据集上训练一个模型net。该训练函数将会运行多个迭代周期（由num_epochs指定）。在每个迭代周期结束时，利用test_iter访问到的测试数据集对模型进行评估。我们将利用Animator类来可视化训练进度。"
      ],
      "metadata": {
        "id": "LuCDPxVqFCaH"
      }
    },
    {
      "cell_type": "code",
      "execution_count": null,
      "source": [
        "def train_ch3(net, train_iter, test_iter, loss, num_epochs, updater): \n",
        "    \"\"\"训练模型（定义见第3章）。\"\"\"\n",
        "    animator = Animator(xlabel='epoch', xlim=[1, num_epochs], ylim=[0.3, 0.9],\n",
        "                        legend=['train loss', 'train acc', 'test acc'])\n",
        "    for epoch in range(num_epochs):\n",
        "        train_metrics = train_epoch_ch3(net, train_iter, loss, updater)\n",
        "        test_acc = evaluate_accuracy(net, test_iter)\n",
        "        animator.add(epoch + 1, train_metrics + (test_acc,))\n",
        "    train_loss, train_acc = train_metrics\n",
        "    assert train_loss < 0.5, train_loss\n",
        "    assert train_acc <= 1 and train_acc > 0.7, train_acc\n",
        "    assert test_acc <= 1 and test_acc > 0.7, test_acc"
      ],
      "outputs": [],
      "metadata": {
        "id": "7b8rbkhiFJVo"
      }
    },
    {
      "cell_type": "markdown",
      "source": [
        "作为一个从零开始的实现，我们使用 3.2节中定义的小批量随机梯度下降来优化模型的损失函数，设置学习率为0.1。"
      ],
      "metadata": {
        "id": "jChELGZoFPlC"
      }
    },
    {
      "cell_type": "code",
      "execution_count": null,
      "source": [
        "lr = 0.1\n",
        "\n",
        "def updater(batch_size):\n",
        "    return d2l.sgd([W, b], lr, batch_size)"
      ],
      "outputs": [],
      "metadata": {
        "id": "LrNwrpvZFRws"
      }
    },
    {
      "cell_type": "markdown",
      "source": [
        "现在，我们训练模型10个迭代周期。请注意，迭代周期（num_epochs）和学习率（lr）都是可调节的超参数。通过更改它们的值，我们可以提高模型的分类准确率。"
      ],
      "metadata": {
        "id": "g478bxHeFUpI"
      }
    },
    {
      "cell_type": "code",
      "execution_count": null,
      "source": [
        "num_epochs = 10\n",
        "train_ch3(net, train_iter, test_iter, cross_entropy, num_epochs, updater)"
      ],
      "outputs": [],
      "metadata": {
        "colab": {
          "base_uri": "https://localhost:8080/",
          "height": 262
        },
        "id": "EHi3Mz8MFVVq",
        "outputId": "f91c7c47-41ed-4d5b-cfc1-f78e79ff5faf"
      }
    },
    {
      "cell_type": "markdown",
      "source": [
        "## 3.6.7预测\n",
        "\n",
        "现在训练已经完成，我们的模型已经准备好对图像进行分类预测。给定一系列图像，我们将比较它们的实际标签（文本输出的第一行）和模型预测（文本输出的第二行）。"
      ],
      "metadata": {
        "id": "kq8GOD8yFqKk"
      }
    },
    {
      "cell_type": "code",
      "execution_count": null,
      "source": [
        "def predict_ch3(net, test_iter, n=6):\n",
        "    \"\"\"预测标签（定义见第3章）。\"\"\"\n",
        "    for X, y in test_iter:\n",
        "        break\n",
        "    trues = d2l.get_fashion_mnist_labels(y)\n",
        "    preds = d2l.get_fashion_mnist_labels(net(X).argmax(axis=1))\n",
        "    titles = [true +'\\n' + pred for true, pred in zip(trues, preds)]\n",
        "    d2l.show_images(\n",
        "        X[0:n].reshape((n, 28, 28)), 1, n, titles=titles[0:n])\n",
        "\n",
        "predict_ch3(net, test_iter)"
      ],
      "outputs": [],
      "metadata": {
        "colab": {
          "base_uri": "https://localhost:8080/",
          "height": 233
        },
        "id": "baJOAfNdFwjp",
        "outputId": "bcfd3372-c4fc-40c7-cf94-4efe6ec11936"
      }
    }
  ]
}